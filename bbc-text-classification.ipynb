{
 "cells": [
  {
   "cell_type": "code",
   "execution_count": 1,
   "metadata": {
    "_cell_guid": "b1076dfc-b9ad-4769-8c92-a6c4dae69d19",
    "_uuid": "8f2839f25d086af736a60e9eeb907d3b93b6e0e5",
    "execution": {
     "iopub.execute_input": "2023-07-26T12:27:31.305977Z",
     "iopub.status.busy": "2023-07-26T12:27:31.305683Z",
     "iopub.status.idle": "2023-07-26T12:27:31.581512Z",
     "shell.execute_reply": "2023-07-26T12:27:31.580627Z",
     "shell.execute_reply.started": "2023-07-26T12:27:31.305920Z"
    }
   },
   "outputs": [],
   "source": [
    "import numpy as np \n",
    "import pandas as pd\n",
    "import matplotlib.pyplot as plt\n",
    "import sklearn\n",
    "%matplotlib inline\n",
    "\n",
    "import os"
   ]
  },
  {
   "cell_type": "code",
   "execution_count": 2,
   "metadata": {
    "_cell_guid": "79c7e3d0-c299-4dcb-8224-4455121ee9b0",
    "_uuid": "d629ff2d2480ee46fbb7e2d37f6b5fab8052498a",
    "execution": {
     "iopub.execute_input": "2023-07-26T12:27:31.588390Z",
     "iopub.status.busy": "2023-07-26T12:27:31.585876Z",
     "iopub.status.idle": "2023-07-26T12:27:31.747652Z",
     "shell.execute_reply": "2023-07-26T12:27:31.746784Z",
     "shell.execute_reply.started": "2023-07-26T12:27:31.588330Z"
    }
   },
   "outputs": [
    {
     "data": {
      "text/html": [
       "<div>\n",
       "<style scoped>\n",
       "    .dataframe tbody tr th:only-of-type {\n",
       "        vertical-align: middle;\n",
       "    }\n",
       "\n",
       "    .dataframe tbody tr th {\n",
       "        vertical-align: top;\n",
       "    }\n",
       "\n",
       "    .dataframe thead th {\n",
       "        text-align: right;\n",
       "    }\n",
       "</style>\n",
       "<table border=\"1\" class=\"dataframe\">\n",
       "  <thead>\n",
       "    <tr style=\"text-align: right;\">\n",
       "      <th></th>\n",
       "      <th>ArticleId</th>\n",
       "      <th>Text</th>\n",
       "      <th>Category</th>\n",
       "    </tr>\n",
       "  </thead>\n",
       "  <tbody>\n",
       "    <tr>\n",
       "      <th>0</th>\n",
       "      <td>1833</td>\n",
       "      <td>worldcom ex-boss launches defence lawyers defe...</td>\n",
       "      <td>business</td>\n",
       "    </tr>\n",
       "    <tr>\n",
       "      <th>1</th>\n",
       "      <td>154</td>\n",
       "      <td>german business confidence slides german busin...</td>\n",
       "      <td>business</td>\n",
       "    </tr>\n",
       "    <tr>\n",
       "      <th>2</th>\n",
       "      <td>1101</td>\n",
       "      <td>bbc poll indicates economic gloom citizens in ...</td>\n",
       "      <td>business</td>\n",
       "    </tr>\n",
       "    <tr>\n",
       "      <th>3</th>\n",
       "      <td>1976</td>\n",
       "      <td>lifestyle  governs mobile choice  faster  bett...</td>\n",
       "      <td>tech</td>\n",
       "    </tr>\n",
       "    <tr>\n",
       "      <th>4</th>\n",
       "      <td>917</td>\n",
       "      <td>enron bosses in $168m payout eighteen former e...</td>\n",
       "      <td>business</td>\n",
       "    </tr>\n",
       "  </tbody>\n",
       "</table>\n",
       "</div>"
      ],
      "text/plain": [
       "   ArticleId                                               Text  Category\n",
       "0       1833  worldcom ex-boss launches defence lawyers defe...  business\n",
       "1        154  german business confidence slides german busin...  business\n",
       "2       1101  bbc poll indicates economic gloom citizens in ...  business\n",
       "3       1976  lifestyle  governs mobile choice  faster  bett...      tech\n",
       "4        917  enron bosses in $168m payout eighteen former e...  business"
      ]
     },
     "execution_count": 2,
     "metadata": {},
     "output_type": "execute_result"
    }
   ],
   "source": [
    "df = pd.read_csv(\"BBC News Train.csv\")\n",
    "df.head()"
   ]
  },
  {
   "cell_type": "code",
   "execution_count": 3,
   "metadata": {
    "_uuid": "74733df7e4a39f3b40d8c5dfd7eb05691b1a1c26",
    "execution": {
     "iopub.execute_input": "2023-07-26T12:27:31.754678Z",
     "iopub.status.busy": "2023-07-26T12:27:31.752253Z",
     "iopub.status.idle": "2023-07-26T12:27:31.790440Z",
     "shell.execute_reply": "2023-07-26T12:27:31.789671Z",
     "shell.execute_reply.started": "2023-07-26T12:27:31.754623Z"
    }
   },
   "outputs": [
    {
     "data": {
      "text/html": [
       "<div>\n",
       "<style scoped>\n",
       "    .dataframe tbody tr th:only-of-type {\n",
       "        vertical-align: middle;\n",
       "    }\n",
       "\n",
       "    .dataframe tbody tr th {\n",
       "        vertical-align: top;\n",
       "    }\n",
       "\n",
       "    .dataframe thead th {\n",
       "        text-align: right;\n",
       "    }\n",
       "</style>\n",
       "<table border=\"1\" class=\"dataframe\">\n",
       "  <thead>\n",
       "    <tr style=\"text-align: right;\">\n",
       "      <th></th>\n",
       "      <th>ArticleId</th>\n",
       "      <th>Text</th>\n",
       "      <th>Category</th>\n",
       "      <th>category_id</th>\n",
       "    </tr>\n",
       "  </thead>\n",
       "  <tbody>\n",
       "    <tr>\n",
       "      <th>0</th>\n",
       "      <td>1833</td>\n",
       "      <td>worldcom ex-boss launches defence lawyers defe...</td>\n",
       "      <td>business</td>\n",
       "      <td>0</td>\n",
       "    </tr>\n",
       "    <tr>\n",
       "      <th>1</th>\n",
       "      <td>154</td>\n",
       "      <td>german business confidence slides german busin...</td>\n",
       "      <td>business</td>\n",
       "      <td>0</td>\n",
       "    </tr>\n",
       "    <tr>\n",
       "      <th>2</th>\n",
       "      <td>1101</td>\n",
       "      <td>bbc poll indicates economic gloom citizens in ...</td>\n",
       "      <td>business</td>\n",
       "      <td>0</td>\n",
       "    </tr>\n",
       "    <tr>\n",
       "      <th>3</th>\n",
       "      <td>1976</td>\n",
       "      <td>lifestyle  governs mobile choice  faster  bett...</td>\n",
       "      <td>tech</td>\n",
       "      <td>1</td>\n",
       "    </tr>\n",
       "    <tr>\n",
       "      <th>4</th>\n",
       "      <td>917</td>\n",
       "      <td>enron bosses in $168m payout eighteen former e...</td>\n",
       "      <td>business</td>\n",
       "      <td>0</td>\n",
       "    </tr>\n",
       "    <tr>\n",
       "      <th>5</th>\n",
       "      <td>1582</td>\n",
       "      <td>howard  truanted to play snooker  conservative...</td>\n",
       "      <td>politics</td>\n",
       "      <td>2</td>\n",
       "    </tr>\n",
       "    <tr>\n",
       "      <th>6</th>\n",
       "      <td>651</td>\n",
       "      <td>wales silent on grand slam talk rhys williams ...</td>\n",
       "      <td>sport</td>\n",
       "      <td>3</td>\n",
       "    </tr>\n",
       "    <tr>\n",
       "      <th>7</th>\n",
       "      <td>1797</td>\n",
       "      <td>french honour for director parker british film...</td>\n",
       "      <td>entertainment</td>\n",
       "      <td>4</td>\n",
       "    </tr>\n",
       "    <tr>\n",
       "      <th>8</th>\n",
       "      <td>2034</td>\n",
       "      <td>car giant hit by mercedes slump a slump in pro...</td>\n",
       "      <td>business</td>\n",
       "      <td>0</td>\n",
       "    </tr>\n",
       "    <tr>\n",
       "      <th>9</th>\n",
       "      <td>1866</td>\n",
       "      <td>fockers fuel festive film chart comedy meet th...</td>\n",
       "      <td>entertainment</td>\n",
       "      <td>4</td>\n",
       "    </tr>\n",
       "    <tr>\n",
       "      <th>10</th>\n",
       "      <td>1683</td>\n",
       "      <td>blair rejects iraq advice calls tony blair has...</td>\n",
       "      <td>politics</td>\n",
       "      <td>2</td>\n",
       "    </tr>\n",
       "    <tr>\n",
       "      <th>11</th>\n",
       "      <td>1153</td>\n",
       "      <td>housewives lift channel 4 ratings the debut of...</td>\n",
       "      <td>entertainment</td>\n",
       "      <td>4</td>\n",
       "    </tr>\n",
       "    <tr>\n",
       "      <th>12</th>\n",
       "      <td>1028</td>\n",
       "      <td>uk coal plunges into deeper loss shares in uk ...</td>\n",
       "      <td>business</td>\n",
       "      <td>0</td>\n",
       "    </tr>\n",
       "    <tr>\n",
       "      <th>13</th>\n",
       "      <td>812</td>\n",
       "      <td>bp surges ahead on high oil price oil giant bp...</td>\n",
       "      <td>business</td>\n",
       "      <td>0</td>\n",
       "    </tr>\n",
       "    <tr>\n",
       "      <th>14</th>\n",
       "      <td>707</td>\n",
       "      <td>ireland 21-19 argentina an injury-time dropped...</td>\n",
       "      <td>sport</td>\n",
       "      <td>3</td>\n",
       "    </tr>\n",
       "    <tr>\n",
       "      <th>15</th>\n",
       "      <td>1588</td>\n",
       "      <td>wenger signs new deal arsenal manager arsene w...</td>\n",
       "      <td>sport</td>\n",
       "      <td>3</td>\n",
       "    </tr>\n",
       "    <tr>\n",
       "      <th>16</th>\n",
       "      <td>342</td>\n",
       "      <td>u2 s desire to be number one u2  who have won ...</td>\n",
       "      <td>entertainment</td>\n",
       "      <td>4</td>\n",
       "    </tr>\n",
       "    <tr>\n",
       "      <th>17</th>\n",
       "      <td>486</td>\n",
       "      <td>hantuchova in dubai last eight daniela hantuch...</td>\n",
       "      <td>sport</td>\n",
       "      <td>3</td>\n",
       "    </tr>\n",
       "    <tr>\n",
       "      <th>18</th>\n",
       "      <td>1344</td>\n",
       "      <td>melzer shocks agassi in san jose second seed a...</td>\n",
       "      <td>sport</td>\n",
       "      <td>3</td>\n",
       "    </tr>\n",
       "    <tr>\n",
       "      <th>19</th>\n",
       "      <td>1552</td>\n",
       "      <td>moving mobile improves golf swing a mobile pho...</td>\n",
       "      <td>tech</td>\n",
       "      <td>1</td>\n",
       "    </tr>\n",
       "  </tbody>\n",
       "</table>\n",
       "</div>"
      ],
      "text/plain": [
       "    ArticleId                                               Text  \\\n",
       "0        1833  worldcom ex-boss launches defence lawyers defe...   \n",
       "1         154  german business confidence slides german busin...   \n",
       "2        1101  bbc poll indicates economic gloom citizens in ...   \n",
       "3        1976  lifestyle  governs mobile choice  faster  bett...   \n",
       "4         917  enron bosses in $168m payout eighteen former e...   \n",
       "5        1582  howard  truanted to play snooker  conservative...   \n",
       "6         651  wales silent on grand slam talk rhys williams ...   \n",
       "7        1797  french honour for director parker british film...   \n",
       "8        2034  car giant hit by mercedes slump a slump in pro...   \n",
       "9        1866  fockers fuel festive film chart comedy meet th...   \n",
       "10       1683  blair rejects iraq advice calls tony blair has...   \n",
       "11       1153  housewives lift channel 4 ratings the debut of...   \n",
       "12       1028  uk coal plunges into deeper loss shares in uk ...   \n",
       "13        812  bp surges ahead on high oil price oil giant bp...   \n",
       "14        707  ireland 21-19 argentina an injury-time dropped...   \n",
       "15       1588  wenger signs new deal arsenal manager arsene w...   \n",
       "16        342  u2 s desire to be number one u2  who have won ...   \n",
       "17        486  hantuchova in dubai last eight daniela hantuch...   \n",
       "18       1344  melzer shocks agassi in san jose second seed a...   \n",
       "19       1552  moving mobile improves golf swing a mobile pho...   \n",
       "\n",
       "         Category  category_id  \n",
       "0        business            0  \n",
       "1        business            0  \n",
       "2        business            0  \n",
       "3            tech            1  \n",
       "4        business            0  \n",
       "5        politics            2  \n",
       "6           sport            3  \n",
       "7   entertainment            4  \n",
       "8        business            0  \n",
       "9   entertainment            4  \n",
       "10       politics            2  \n",
       "11  entertainment            4  \n",
       "12       business            0  \n",
       "13       business            0  \n",
       "14          sport            3  \n",
       "15          sport            3  \n",
       "16  entertainment            4  \n",
       "17          sport            3  \n",
       "18          sport            3  \n",
       "19           tech            1  "
      ]
     },
     "execution_count": 3,
     "metadata": {},
     "output_type": "execute_result"
    }
   ],
   "source": [
    "df['category_id'] = df['Category'].factorize()[0]\n",
    "\n",
    "df['category_id'][0:10]\n",
    "df.head(20)"
   ]
  },
  {
   "cell_type": "code",
   "execution_count": 4,
   "metadata": {
    "_uuid": "2f04fce352ddb5fe7598cf9ce88d0c179a4a341b",
    "execution": {
     "iopub.execute_input": "2023-07-26T12:27:31.797283Z",
     "iopub.status.busy": "2023-07-26T12:27:31.794840Z",
     "iopub.status.idle": "2023-07-26T12:27:31.823438Z",
     "shell.execute_reply": "2023-07-26T12:27:31.822657Z",
     "shell.execute_reply.started": "2023-07-26T12:27:31.797226Z"
    }
   },
   "outputs": [
    {
     "data": {
      "text/html": [
       "<div>\n",
       "<style scoped>\n",
       "    .dataframe tbody tr th:only-of-type {\n",
       "        vertical-align: middle;\n",
       "    }\n",
       "\n",
       "    .dataframe tbody tr th {\n",
       "        vertical-align: top;\n",
       "    }\n",
       "\n",
       "    .dataframe thead th {\n",
       "        text-align: right;\n",
       "    }\n",
       "</style>\n",
       "<table border=\"1\" class=\"dataframe\">\n",
       "  <thead>\n",
       "    <tr style=\"text-align: right;\">\n",
       "      <th></th>\n",
       "      <th>Category</th>\n",
       "      <th>category_id</th>\n",
       "    </tr>\n",
       "  </thead>\n",
       "  <tbody>\n",
       "    <tr>\n",
       "      <th>0</th>\n",
       "      <td>business</td>\n",
       "      <td>0</td>\n",
       "    </tr>\n",
       "    <tr>\n",
       "      <th>3</th>\n",
       "      <td>tech</td>\n",
       "      <td>1</td>\n",
       "    </tr>\n",
       "    <tr>\n",
       "      <th>5</th>\n",
       "      <td>politics</td>\n",
       "      <td>2</td>\n",
       "    </tr>\n",
       "    <tr>\n",
       "      <th>6</th>\n",
       "      <td>sport</td>\n",
       "      <td>3</td>\n",
       "    </tr>\n",
       "    <tr>\n",
       "      <th>7</th>\n",
       "      <td>entertainment</td>\n",
       "      <td>4</td>\n",
       "    </tr>\n",
       "  </tbody>\n",
       "</table>\n",
       "</div>"
      ],
      "text/plain": [
       "        Category  category_id\n",
       "0       business            0\n",
       "3           tech            1\n",
       "5       politics            2\n",
       "6          sport            3\n",
       "7  entertainment            4"
      ]
     },
     "execution_count": 4,
     "metadata": {},
     "output_type": "execute_result"
    }
   ],
   "source": [
    "category_id_df = df[['Category', 'category_id']].drop_duplicates().sort_values('category_id')\n",
    "category_id_df\n"
   ]
  },
  {
   "cell_type": "code",
   "execution_count": 5,
   "metadata": {
    "_uuid": "719b9ba2211e3e2d2182a66b186cdbbaae3d8fd2",
    "execution": {
     "iopub.execute_input": "2023-07-26T12:27:31.830373Z",
     "iopub.status.busy": "2023-07-26T12:27:31.827882Z",
     "iopub.status.idle": "2023-07-26T12:27:31.843573Z",
     "shell.execute_reply": "2023-07-26T12:27:31.842647Z",
     "shell.execute_reply.started": "2023-07-26T12:27:31.830317Z"
    }
   },
   "outputs": [
    {
     "data": {
      "text/plain": [
       "{0: 'business', 1: 'tech', 2: 'politics', 3: 'sport', 4: 'entertainment'}"
      ]
     },
     "execution_count": 5,
     "metadata": {},
     "output_type": "execute_result"
    }
   ],
   "source": [
    "category_to_id = dict(category_id_df.values)\n",
    "id_to_category = dict(category_id_df[['category_id', 'Category']].values)\n",
    "id_to_category\n"
   ]
  },
  {
   "cell_type": "code",
   "execution_count": 6,
   "metadata": {
    "_uuid": "2ea000789f29482e10bcd0a6005ab6e04021461f",
    "execution": {
     "iopub.execute_input": "2023-07-26T12:27:31.850655Z",
     "iopub.status.busy": "2023-07-26T12:27:31.848314Z",
     "iopub.status.idle": "2023-07-26T12:27:31.861020Z",
     "shell.execute_reply": "2023-07-26T12:27:31.860155Z",
     "shell.execute_reply.started": "2023-07-26T12:27:31.850587Z"
    }
   },
   "outputs": [
    {
     "data": {
      "text/plain": [
       "{'business': 0, 'tech': 1, 'politics': 2, 'sport': 3, 'entertainment': 4}"
      ]
     },
     "execution_count": 6,
     "metadata": {},
     "output_type": "execute_result"
    }
   ],
   "source": [
    "category_to_id"
   ]
  },
  {
   "cell_type": "code",
   "execution_count": 7,
   "metadata": {
    "_uuid": "fdae8dca8c22a6d8ffae6a3bc67cae3f3b69fa73",
    "execution": {
     "iopub.execute_input": "2023-07-26T12:27:31.865164Z",
     "iopub.status.busy": "2023-07-26T12:27:31.864484Z",
     "iopub.status.idle": "2023-07-26T12:27:31.882106Z",
     "shell.execute_reply": "2023-07-26T12:27:31.881342Z",
     "shell.execute_reply.started": "2023-07-26T12:27:31.865110Z"
    }
   },
   "outputs": [
    {
     "data": {
      "text/plain": [
       "Category\n",
       "business         336\n",
       "entertainment    273\n",
       "politics         274\n",
       "sport            346\n",
       "tech             261\n",
       "Name: category_id, dtype: int64"
      ]
     },
     "execution_count": 7,
     "metadata": {},
     "output_type": "execute_result"
    }
   ],
   "source": [
    "df.groupby('Category').category_id.count()\n"
   ]
  },
  {
   "cell_type": "code",
   "execution_count": 8,
   "metadata": {
    "_uuid": "a6562657503062e9ea7b2a045c71d6fa043a9d0a",
    "execution": {
     "iopub.execute_input": "2023-07-26T12:27:31.886072Z",
     "iopub.status.busy": "2023-07-26T12:27:31.883476Z",
     "iopub.status.idle": "2023-07-26T12:27:32.330853Z",
     "shell.execute_reply": "2023-07-26T12:27:32.329961Z",
     "shell.execute_reply.started": "2023-07-26T12:27:31.886003Z"
    }
   },
   "outputs": [
    {
     "data": {
      "text/plain": [
       "<AxesSubplot:xlabel='Category'>"
      ]
     },
     "execution_count": 8,
     "metadata": {},
     "output_type": "execute_result"
    },
    {
     "data": {
      "image/png": "[encoded data removed]",
      "text/plain": [
       "<Figure size 640x480 with 1 Axes>"
      ]
     },
     "metadata": {},
     "output_type": "display_data"
    }
   ],
   "source": [
    "df.groupby('Category').category_id.count().plot.bar(ylim=0)\n"
   ]
  },
  {
   "cell_type": "code",
   "execution_count": 9,
   "metadata": {
    "_uuid": "8e9bd05c69a055576b6921e8d9a5d19ddbf95c23",
    "execution": {
     "iopub.execute_input": "2023-07-26T12:27:32.332540Z",
     "iopub.status.busy": "2023-07-26T12:27:32.332262Z",
     "iopub.status.idle": "2023-07-26T12:27:35.168972Z",
     "shell.execute_reply": "2023-07-26T12:27:35.167978Z",
     "shell.execute_reply.started": "2023-07-26T12:27:32.332490Z"
    }
   },
   "outputs": [],
   "source": [
    "from sklearn.feature_extraction.text import TfidfVectorizer\n",
    "\n",
    "tfidf = TfidfVectorizer(sublinear_tf=True, min_df=5, norm='l2', encoding='latin-1', ngram_range=(1, 2), stop_words='english')\n",
    "\n",
    "features = tfidf.fit_transform(df.Text).toarray()\n",
    "                                                 \n",
    "\n",
    "labels = df.category_id                           \n"
   ]
  },
  {
   "cell_type": "code",
   "execution_count": 11,
   "metadata": {
    "_uuid": "ab1e261f259ba5cc42c0faf8820a1a28f99177f4",
    "execution": {
     "iopub.execute_input": "2023-07-26T12:27:35.170594Z",
     "iopub.status.busy": "2023-07-26T12:27:35.170298Z",
     "iopub.status.idle": "2023-07-26T12:27:35.181104Z",
     "shell.execute_reply": "2023-07-26T12:27:35.180105Z",
     "shell.execute_reply.started": "2023-07-26T12:27:35.170536Z"
    }
   },
   "outputs": [
    {
     "data": {
      "text/plain": [
       "(1490, 9927)"
      ]
     },
     "execution_count": 11,
     "metadata": {},
     "output_type": "execute_result"
    }
   ],
   "source": [
    "features.shape \n"
   ]
  },
  {
   "cell_type": "code",
   "execution_count": 12,
   "metadata": {
    "_uuid": "4ef5132cb2195825659c8cf8df7e9d384afb3d54",
    "execution": {
     "iopub.execute_input": "2023-07-26T12:27:35.183183Z",
     "iopub.status.busy": "2023-07-26T12:27:35.182614Z",
     "iopub.status.idle": "2023-07-26T12:27:35.189655Z",
     "shell.execute_reply": "2023-07-26T12:27:35.188563Z",
     "shell.execute_reply.started": "2023-07-26T12:27:35.182935Z"
    }
   },
   "outputs": [
    {
     "data": {
      "text/plain": [
       "dict_items([('business', 0), ('tech', 1), ('politics', 2), ('sport', 3), ('entertainment', 4)])"
      ]
     },
     "execution_count": 12,
     "metadata": {},
     "output_type": "execute_result"
    }
   ],
   "source": [
    "category_to_id.items()\n"
   ]
  },
  {
   "cell_type": "code",
   "execution_count": 13,
   "metadata": {
    "_uuid": "e409af173c63c78205cf85cb1990a3439f0f61f5",
    "execution": {
     "iopub.execute_input": "2023-07-26T12:27:35.191789Z",
     "iopub.status.busy": "2023-07-26T12:27:35.191112Z",
     "iopub.status.idle": "2023-07-26T12:27:35.201269Z",
     "shell.execute_reply": "2023-07-26T12:27:35.200139Z",
     "shell.execute_reply.started": "2023-07-26T12:27:35.191357Z"
    }
   },
   "outputs": [
    {
     "data": {
      "text/plain": [
       "[('business', 0),\n",
       " ('entertainment', 4),\n",
       " ('politics', 2),\n",
       " ('sport', 3),\n",
       " ('tech', 1)]"
      ]
     },
     "execution_count": 13,
     "metadata": {},
     "output_type": "execute_result"
    }
   ],
   "source": [
    "sorted(category_to_id.items())"
   ]
  },
  {
   "cell_type": "code",
   "execution_count": 15,
   "metadata": {
    "_uuid": "4fdd0795ee6ee5c9d658f51501ca531f0a4e6be7",
    "execution": {
     "iopub.execute_input": "2023-07-26T12:27:35.203728Z",
     "iopub.status.busy": "2023-07-26T12:27:35.203073Z",
     "iopub.status.idle": "2023-07-26T12:27:36.188481Z",
     "shell.execute_reply": "2023-07-26T12:27:36.187644Z",
     "shell.execute_reply.started": "2023-07-26T12:27:35.203391Z"
    }
   },
   "outputs": [
    {
     "name": "stdout",
     "output_type": "stream",
     "text": [
      "# 'business':\n",
      "  . Most correlated unigrams:\n",
      "       . growth\n",
      "       . bank\n",
      "       . shares\n",
      "  . Most correlated bigrams:\n",
      "       . stock market\n",
      "       . economic growth\n",
      "       . analysts said\n",
      "# 'entertainment':\n",
      "  . Most correlated unigrams:\n",
      "       . singer\n",
      "       . actor\n",
      "       . film\n",
      "  . Most correlated bigrams:\n",
      "       . won best\n",
      "       . los angeles\n",
      "       . box office\n",
      "# 'politics':\n",
      "  . Most correlated unigrams:\n",
      "       . blair\n",
      "       . election\n",
      "       . labour\n",
      "  . Most correlated bigrams:\n",
      "       . prime minister\n",
      "       . tony blair\n",
      "       . mr blair\n",
      "# 'sport':\n",
      "  . Most correlated unigrams:\n",
      "       . match\n",
      "       . coach\n",
      "       . cup\n",
      "  . Most correlated bigrams:\n",
      "       . grand slam\n",
      "       . champions league\n",
      "       . australian open\n",
      "# 'tech':\n",
      "  . Most correlated unigrams:\n",
      "       . technology\n",
      "       . software\n",
      "       . users\n",
      "  . Most correlated bigrams:\n",
      "       . anti virus\n",
      "       . mobile phones\n",
      "       . mobile phone\n"
     ]
    }
   ],
   "source": [
    "from sklearn.feature_selection import chi2\n",
    "N = 3  # We are going to look for top 3 categories\n",
    "\n",
    "#For each category, find words that are highly corelated to it\n",
    "for Category, category_id in sorted(category_to_id.items()):\n",
    "  features_chi2 = chi2(features, labels == category_id)                   \n",
    "  indices = np.argsort(features_chi2[0])                                  \n",
    "  feature_names = np.array(tfidf.get_feature_names_out())[indices]\n",
    "  unigrams = [v for v in feature_names if len(v.split(' ')) == 1]         \n",
    "  bigrams = [v for v in feature_names if len(v.split(' ')) == 2] \n",
    "  print(\"# '{}':\".format(Category))\n",
    "  print(\"  . Most correlated unigrams:\\n       . {}\".format('\\n       . '.join(unigrams[-N:])))\n",
    "  print(\"  . Most correlated bigrams:\\n       . {}\".format('\\n       . '.join(bigrams[-N:])))\n"
   ]
  },
  {
   "cell_type": "code",
   "execution_count": 16,
   "metadata": {
    "_uuid": "4744fbf71d4ca37d3bcbff5100bf786f0df77a14",
    "execution": {
     "iopub.execute_input": "2023-07-26T12:27:36.190563Z",
     "iopub.status.busy": "2023-07-26T12:27:36.189940Z",
     "iopub.status.idle": "2023-07-26T12:27:36.200709Z",
     "shell.execute_reply": "2023-07-26T12:27:36.199690Z",
     "shell.execute_reply.started": "2023-07-26T12:27:36.190507Z"
    }
   },
   "outputs": [
    {
     "data": {
      "text/plain": [
       "(array([0.13345481, 0.01563765, 0.00108776, ..., 0.00812363, 0.15434356,\n",
       "        0.120306  ]),\n",
       " array([0.71487652, 0.9004835 , 0.97368962, ..., 0.92818297, 0.69441858,\n",
       "        0.72870284]))"
      ]
     },
     "execution_count": 16,
     "metadata": {},
     "output_type": "execute_result"
    }
   ],
   "source": [
    "features_chi2"
   ]
  },
  {
   "cell_type": "code",
   "execution_count": 17,
   "metadata": {
    "_uuid": "1ccbd4e25868a249e8ec975b27e313c87f82c4c7",
    "execution": {
     "iopub.execute_input": "2023-07-26T12:27:36.204096Z",
     "iopub.status.busy": "2023-07-26T12:27:36.201809Z",
     "iopub.status.idle": "2023-07-26T12:27:42.678895Z",
     "shell.execute_reply": "2023-07-26T12:27:42.678107Z",
     "shell.execute_reply.started": "2023-07-26T12:27:36.202011Z"
    }
   },
   "outputs": [
    {
     "data": {
      "text/plain": [
       "(447, 2)"
      ]
     },
     "execution_count": 17,
     "metadata": {},
     "output_type": "execute_result"
    }
   ],
   "source": [
    "from sklearn.manifold import TSNE\n",
    "\n",
    "# Sampling a subset of our dataset because t-SNE is computationally expensive\n",
    "SAMPLE_SIZE = int(len(features) * 0.3)\n",
    "np.random.seed(0)\n",
    "indices = np.random.choice(range(len(features)), size=SAMPLE_SIZE, replace=False)          # Randomly select 30 % of samples\n",
    "projected_features = TSNE(n_components=2, random_state=0).fit_transform(features[indices]) # Array of all projected features of 30% of Randomly chosen samples \n",
    "projected_features.shape\n"
   ]
  },
  {
   "cell_type": "code",
   "execution_count": 18,
   "metadata": {
    "_uuid": "2214f4a9253f51ea6b06a4c02a4c53a14b0a3c6b",
    "execution": {
     "iopub.execute_input": "2023-07-26T12:27:42.680938Z",
     "iopub.status.busy": "2023-07-26T12:27:42.680316Z",
     "iopub.status.idle": "2023-07-26T12:27:42.693986Z",
     "shell.execute_reply": "2023-07-26T12:27:42.693083Z",
     "shell.execute_reply.started": "2023-07-26T12:27:42.680592Z"
    }
   },
   "outputs": [
    {
     "data": {
      "text/plain": [
       "array([[ 18.101728  ,   4.5712643 ],\n",
       "       [ 26.48669   ,   9.533953  ],\n",
       "       [ 26.63272   ,  -9.640136  ],\n",
       "       [ 20.318165  ,  13.158987  ],\n",
       "       [ 21.914106  , -20.156086  ],\n",
       "       [ 20.058659  ,   8.728493  ],\n",
       "       [ 32.699257  ,  -6.165324  ],\n",
       "       [ 18.229673  ,   9.955095  ],\n",
       "       [ 12.626404  ,   5.612022  ],\n",
       "       [ 17.627333  ,  17.45184   ],\n",
       "       [  2.9628708 , -16.677534  ],\n",
       "       [ 29.38238   ,   6.426106  ],\n",
       "       [ 12.556033  ,   1.3322779 ],\n",
       "       [ 24.287685  ,  -4.2993393 ],\n",
       "       [ 22.129093  ,  15.18762   ],\n",
       "       [ 29.66051   ,   8.599653  ],\n",
       "       [ 26.51846   ,  10.898025  ],\n",
       "       [ 20.745293  ,  10.475088  ],\n",
       "       [ 23.864962  ,   3.6222327 ],\n",
       "       [ 32.817474  ,  -2.8296046 ],\n",
       "       [  5.841344  ,  10.715975  ],\n",
       "       [ 22.37102   ,   0.5311744 ],\n",
       "       [ 26.30639   ,  -9.3033085 ],\n",
       "       [ 28.26359   ,  11.384173  ],\n",
       "       [ 22.873184  ,   9.469372  ],\n",
       "       [ 29.310429  ,  -0.5231528 ],\n",
       "       [ 24.460054  ,   1.3506694 ],\n",
       "       [ 29.071623  ,  -2.8653228 ],\n",
       "       [ 26.003326  ,  10.148386  ],\n",
       "       [ 29.396912  ,  -2.926412  ],\n",
       "       [ 23.18696   ,  -1.9027654 ],\n",
       "       [ 20.92105   ,  -0.49513152],\n",
       "       [ 21.871597  ,   6.3311157 ],\n",
       "       [ 11.961649  ,  -2.1278217 ],\n",
       "       [ 30.295216  ,   6.967572  ],\n",
       "       [ 17.363451  ,   9.112922  ],\n",
       "       [ 16.90847   ,   2.4099183 ],\n",
       "       [ 24.903557  ,  -7.668695  ],\n",
       "       [ 17.743597  ,  -4.2739077 ],\n",
       "       [ 21.686893  ,  13.954903  ],\n",
       "       [ 23.075823  ,  -9.302172  ],\n",
       "       [ 24.003366  ,   9.556349  ],\n",
       "       [ 20.188528  ,   9.366171  ],\n",
       "       [ 22.18279   ,  -8.713818  ],\n",
       "       [ 31.900393  ,  -4.2038517 ],\n",
       "       [ 24.862354  ,  -3.1181855 ],\n",
       "       [ 31.736822  ,   2.4654927 ],\n",
       "       [ 23.094786  ,   5.8611355 ],\n",
       "       [ 11.86083   ,  -2.279108  ],\n",
       "       [ 21.935165  ,  16.36653   ],\n",
       "       [ 27.001513  ,  -7.7676115 ],\n",
       "       [ 26.84921   ,   1.4760121 ],\n",
       "       [ 25.059942  ,  -0.31544507],\n",
       "       [ 12.901798  ,  10.029329  ],\n",
       "       [ 32.792778  ,   2.8474975 ],\n",
       "       [ 29.204243  ,   2.9497304 ],\n",
       "       [ 18.46044   ,  -5.780413  ],\n",
       "       [ 21.042202  ,  -0.63026625],\n",
       "       [ 21.174332  ,  16.14132   ],\n",
       "       [  9.458789  ,   3.0079346 ],\n",
       "       [ 33.403038  ,   3.0148122 ],\n",
       "       [ 32.6154    ,  -2.2439182 ],\n",
       "       [ 22.769228  , -19.469772  ],\n",
       "       [ 25.276508  ,  -9.964217  ],\n",
       "       [ 18.914589  ,  14.124797  ],\n",
       "       [ 19.00866   ,   1.3750721 ],\n",
       "       [ 22.631025  ,  -7.8819604 ],\n",
       "       [ 18.316101  ,   4.6036997 ],\n",
       "       [ 16.134636  ,  11.649088  ],\n",
       "       [ 26.099474  ,   6.4300213 ],\n",
       "       [ 34.441704  ,  -3.5173185 ],\n",
       "       [ 31.627394  ,  -0.31492805],\n",
       "       [ 22.044342  ,  -3.2019298 ],\n",
       "       [ 28.649303  ,  -3.7053645 ],\n",
       "       [ 18.503338  ,  -0.12942466],\n",
       "       [ 25.429594  ,  -2.4650168 ],\n",
       "       [ 20.380692  ,   7.6052065 ],\n",
       "       [ 22.45675   ,  -3.7785487 ],\n",
       "       [ 27.292938  ,   1.0697433 ],\n",
       "       [ 19.826818  ,   3.7507756 ],\n",
       "       [  3.2143347 ,   5.320292  ],\n",
       "       [ 32.994667  ,   7.2203364 ],\n",
       "       [ 17.678562  ,  10.7912    ],\n",
       "       [ 18.08197   ,  -6.751339  ],\n",
       "       [ 23.400024  ,  -7.338549  ],\n",
       "       [ 28.914408  ,   4.597825  ],\n",
       "       [ 15.726188  ,   5.057378  ],\n",
       "       [ 25.739424  ,  13.009087  ],\n",
       "       [ 19.001715  ,   2.1038976 ],\n",
       "       [ 28.880014  ,   3.4298074 ],\n",
       "       [ 12.970355  ,   5.5163517 ],\n",
       "       [ 24.579254  ,  -0.1779987 ],\n",
       "       [ 26.82883   ,   3.6634176 ],\n",
       "       [ 23.771769  ,   3.4762592 ],\n",
       "       [ 21.090776  ,  13.447805  ],\n",
       "       [ 35.381954  ,  -4.060628  ],\n",
       "       [ 34.320072  ,  -1.5731449 ],\n",
       "       [ 31.446083  ,   7.0805626 ],\n",
       "       [ 32.781868  ,  -6.124309  ],\n",
       "       [ 10.496762  , -11.671716  ],\n",
       "       [ 26.174961  ,   6.1334524 ],\n",
       "       [ 17.46436   ,   7.141762  ],\n",
       "       [ 15.816917  ,   8.253795  ]], dtype=float32)"
      ]
     },
     "execution_count": 18,
     "metadata": {},
     "output_type": "execute_result"
    }
   ],
   "source": [
    "my_id = 0 # Select a category_id\n",
    "projected_features[(labels[indices] == my_id).values]\n"
   ]
  },
  {
   "cell_type": "code",
   "execution_count": 19,
   "metadata": {
    "_uuid": "a8b32a85c0707ca65ecb83d625f30b3d0280ee56",
    "execution": {
     "iopub.execute_input": "2023-07-26T12:27:42.696135Z",
     "iopub.status.busy": "2023-07-26T12:27:42.695633Z",
     "iopub.status.idle": "2023-07-26T12:27:43.176550Z",
     "shell.execute_reply": "2023-07-26T12:27:43.175566Z",
     "shell.execute_reply.started": "2023-07-26T12:27:42.695890Z"
    }
   },
   "outputs": [
    {
     "data": {
      "text/plain": [
       "<matplotlib.legend.Legend at 0x2310137e4c0>"
      ]
     },
     "execution_count": 19,
     "metadata": {},
     "output_type": "execute_result"
    },
    {
     "data": {
      "image/png": "[encoded data removed]",
      "text/plain": [
       "<Figure size 640x480 with 1 Axes>"
      ]
     },
     "metadata": {},
     "output_type": "display_data"
    }
   ],
   "source": [
    "colors = ['pink', 'green', 'midnightblue', 'orange', 'darkgrey']\n",
    "\n",
    "# Find points belonging to each category and plot them\n",
    "for category, category_id in sorted(category_to_id.items()):\n",
    "    points = projected_features[(labels[indices] == category_id).values]\n",
    "    plt.scatter(points[:, 0], points[:, 1], s=30, c=colors[category_id], label=category)\n",
    "plt.title(\"tf-idf feature vector for each article, projected on 2 dimensions.\",\n",
    "          fontdict=dict(fontsize=15))\n",
    "plt.legend()\n"
   ]
  },
  {
   "cell_type": "code",
   "execution_count": 20,
   "metadata": {
    "_uuid": "84e922b0e753ea9448f7475bae634f5124752b49",
    "execution": {
     "iopub.execute_input": "2023-07-26T12:27:43.177997Z",
     "iopub.status.busy": "2023-07-26T12:27:43.177738Z",
     "iopub.status.idle": "2023-07-26T12:27:43.205893Z",
     "shell.execute_reply": "2023-07-26T12:27:43.205253Z",
     "shell.execute_reply.started": "2023-07-26T12:27:43.177947Z"
    }
   },
   "outputs": [],
   "source": [
    "from sklearn.linear_model import LogisticRegression\n",
    "from sklearn.ensemble import RandomForestClassifier\n",
    "from sklearn.naive_bayes import MultinomialNB\n",
    "\n",
    "from sklearn.model_selection import cross_val_score\n",
    "\n",
    "\n",
    "models = [\n",
    "    RandomForestClassifier(n_estimators=200, max_depth=100, random_state=0),\n",
    "    MultinomialNB(),\n",
    "    LogisticRegression(random_state=30),\n",
    "]\n"
   ]
  },
  {
   "cell_type": "code",
   "execution_count": 21,
   "metadata": {
    "_uuid": "a179cf20e8bbb16782aef9c35749750aab9786db",
    "execution": {
     "iopub.execute_input": "2023-07-26T12:27:43.208114Z",
     "iopub.status.busy": "2023-07-26T12:27:43.207566Z",
     "iopub.status.idle": "2023-07-26T12:27:43.213622Z",
     "shell.execute_reply": "2023-07-26T12:27:43.212515Z",
     "shell.execute_reply.started": "2023-07-26T12:27:43.207836Z"
    }
   },
   "outputs": [],
   "source": [
    "CV = 5 \n",
    "\n",
    "cv_df = pd.DataFrame(index=range(CV * len(models)))\n",
    "entries = [] \n"
   ]
  },
  {
   "cell_type": "code",
   "execution_count": 22,
   "metadata": {
    "_uuid": "1e255df0b1f6437311a8049516b286819559e942",
    "execution": {
     "iopub.execute_input": "2023-07-26T12:27:43.215799Z",
     "iopub.status.busy": "2023-07-26T12:27:43.215206Z",
     "iopub.status.idle": "2023-07-26T12:28:03.932510Z",
     "shell.execute_reply": "2023-07-26T12:28:03.928953Z",
     "shell.execute_reply.started": "2023-07-26T12:27:43.215450Z"
    }
   },
   "outputs": [],
   "source": [
    "\n",
    "for model in models:\n",
    "  model_name = model.__class__.__name__\n",
    "  accuracies = cross_val_score(model, features, labels, scoring='accuracy', cv=CV)\n",
    "  for fold_idx, accuracy in enumerate(accuracies):\n",
    "    entries.append((model_name, fold_idx, accuracy))\n"
   ]
  },
  {
   "cell_type": "code",
   "execution_count": 23,
   "metadata": {
    "_uuid": "8981cbdd81521c3b49d0fe6065457ef4cdc3ff4a",
    "execution": {
     "iopub.execute_input": "2023-07-26T12:28:03.934213Z",
     "iopub.status.busy": "2023-07-26T12:28:03.933902Z",
     "iopub.status.idle": "2023-07-26T12:28:03.942089Z",
     "shell.execute_reply": "2023-07-26T12:28:03.940807Z",
     "shell.execute_reply.started": "2023-07-26T12:28:03.934161Z"
    }
   },
   "outputs": [],
   "source": [
    "cv_df = pd.DataFrame(entries, columns=['model_name', 'fold_idx', 'accuracy'])\n"
   ]
  },
  {
   "cell_type": "code",
   "execution_count": 24,
   "metadata": {
    "_uuid": "6802e4c255aa97fa20c11f493e1ba5838f8b1d6c",
    "execution": {
     "iopub.execute_input": "2023-07-26T12:28:03.944093Z",
     "iopub.status.busy": "2023-07-26T12:28:03.943644Z",
     "iopub.status.idle": "2023-07-26T12:28:04.459455Z",
     "shell.execute_reply": "2023-07-26T12:28:04.458296Z",
     "shell.execute_reply.started": "2023-07-26T12:28:03.944002Z"
    }
   },
   "outputs": [
    {
     "data": {
      "text/plain": [
       "<AxesSubplot:xlabel='model_name', ylabel='accuracy'>"
      ]
     },
     "execution_count": 24,
     "metadata": {},
     "output_type": "execute_result"
    },
    {
     "data": {
      "image/png": "[encoded data removed]",
      "text/plain": [
       "<Figure size 640x480 with 1 Axes>"
      ]
     },
     "metadata": {},
     "output_type": "display_data"
    }
   ],
   "source": [
    "import seaborn as sns\n",
    "\n",
    "sns.boxplot(x='model_name', y='accuracy', data=cv_df)\n",
    "sns.stripplot(x='model_name', y='accuracy', data=cv_df, \n",
    "              size=8, jitter=True, edgecolor=\"gray\", linewidth=2)\n"
   ]
  },
  {
   "cell_type": "code",
   "execution_count": 25,
   "metadata": {
    "_uuid": "ac2a8179b18c88e4ba99110cb6adad47ccfce7d6",
    "execution": {
     "iopub.execute_input": "2023-07-26T12:28:04.468986Z",
     "iopub.status.busy": "2023-07-26T12:28:04.461728Z",
     "iopub.status.idle": "2023-07-26T12:28:04.487140Z",
     "shell.execute_reply": "2023-07-26T12:28:04.486143Z",
     "shell.execute_reply.started": "2023-07-26T12:28:04.468905Z"
    }
   },
   "outputs": [
    {
     "data": {
      "text/plain": [
       "model_name\n",
       "LogisticRegression        0.975168\n",
       "MultinomialNB             0.972483\n",
       "RandomForestClassifier    0.955705\n",
       "Name: accuracy, dtype: float64"
      ]
     },
     "execution_count": 25,
     "metadata": {},
     "output_type": "execute_result"
    }
   ],
   "source": [
    "cv_df.groupby('model_name').accuracy.mean()\n"
   ]
  },
  {
   "cell_type": "code",
   "execution_count": 26,
   "metadata": {
    "_uuid": "e339882cc15b7f9bfac14eb83834d992f0e60e75",
    "execution": {
     "iopub.execute_input": "2023-07-26T12:28:04.489633Z",
     "iopub.status.busy": "2023-07-26T12:28:04.488919Z",
     "iopub.status.idle": "2023-07-26T12:28:04.518994Z",
     "shell.execute_reply": "2023-07-26T12:28:04.518050Z",
     "shell.execute_reply.started": "2023-07-26T12:28:04.489562Z"
    }
   },
   "outputs": [
    {
     "data": {
      "text/html": [
       "<div>\n",
       "<style scoped>\n",
       "    .dataframe tbody tr th:only-of-type {\n",
       "        vertical-align: middle;\n",
       "    }\n",
       "\n",
       "    .dataframe tbody tr th {\n",
       "        vertical-align: top;\n",
       "    }\n",
       "\n",
       "    .dataframe thead th {\n",
       "        text-align: right;\n",
       "    }\n",
       "</style>\n",
       "<table border=\"1\" class=\"dataframe\">\n",
       "  <thead>\n",
       "    <tr style=\"text-align: right;\">\n",
       "      <th></th>\n",
       "      <th>model_name</th>\n",
       "      <th>fold_idx</th>\n",
       "      <th>accuracy</th>\n",
       "    </tr>\n",
       "  </thead>\n",
       "  <tbody>\n",
       "    <tr>\n",
       "      <th>0</th>\n",
       "      <td>RandomForestClassifier</td>\n",
       "      <td>0</td>\n",
       "      <td>0.939597</td>\n",
       "    </tr>\n",
       "    <tr>\n",
       "      <th>1</th>\n",
       "      <td>RandomForestClassifier</td>\n",
       "      <td>1</td>\n",
       "      <td>0.939597</td>\n",
       "    </tr>\n",
       "    <tr>\n",
       "      <th>2</th>\n",
       "      <td>RandomForestClassifier</td>\n",
       "      <td>2</td>\n",
       "      <td>0.973154</td>\n",
       "    </tr>\n",
       "    <tr>\n",
       "      <th>3</th>\n",
       "      <td>RandomForestClassifier</td>\n",
       "      <td>3</td>\n",
       "      <td>0.963087</td>\n",
       "    </tr>\n",
       "    <tr>\n",
       "      <th>4</th>\n",
       "      <td>RandomForestClassifier</td>\n",
       "      <td>4</td>\n",
       "      <td>0.963087</td>\n",
       "    </tr>\n",
       "    <tr>\n",
       "      <th>5</th>\n",
       "      <td>MultinomialNB</td>\n",
       "      <td>0</td>\n",
       "      <td>0.969799</td>\n",
       "    </tr>\n",
       "    <tr>\n",
       "      <th>6</th>\n",
       "      <td>MultinomialNB</td>\n",
       "      <td>1</td>\n",
       "      <td>0.959732</td>\n",
       "    </tr>\n",
       "    <tr>\n",
       "      <th>7</th>\n",
       "      <td>MultinomialNB</td>\n",
       "      <td>2</td>\n",
       "      <td>0.983221</td>\n",
       "    </tr>\n",
       "    <tr>\n",
       "      <th>8</th>\n",
       "      <td>MultinomialNB</td>\n",
       "      <td>3</td>\n",
       "      <td>0.979866</td>\n",
       "    </tr>\n",
       "    <tr>\n",
       "      <th>9</th>\n",
       "      <td>MultinomialNB</td>\n",
       "      <td>4</td>\n",
       "      <td>0.969799</td>\n",
       "    </tr>\n",
       "    <tr>\n",
       "      <th>10</th>\n",
       "      <td>LogisticRegression</td>\n",
       "      <td>0</td>\n",
       "      <td>0.973154</td>\n",
       "    </tr>\n",
       "    <tr>\n",
       "      <th>11</th>\n",
       "      <td>LogisticRegression</td>\n",
       "      <td>1</td>\n",
       "      <td>0.963087</td>\n",
       "    </tr>\n",
       "    <tr>\n",
       "      <th>12</th>\n",
       "      <td>LogisticRegression</td>\n",
       "      <td>2</td>\n",
       "      <td>0.983221</td>\n",
       "    </tr>\n",
       "    <tr>\n",
       "      <th>13</th>\n",
       "      <td>LogisticRegression</td>\n",
       "      <td>3</td>\n",
       "      <td>0.979866</td>\n",
       "    </tr>\n",
       "    <tr>\n",
       "      <th>14</th>\n",
       "      <td>LogisticRegression</td>\n",
       "      <td>4</td>\n",
       "      <td>0.976510</td>\n",
       "    </tr>\n",
       "  </tbody>\n",
       "</table>\n",
       "</div>"
      ],
      "text/plain": [
       "                model_name  fold_idx  accuracy\n",
       "0   RandomForestClassifier         0  0.939597\n",
       "1   RandomForestClassifier         1  0.939597\n",
       "2   RandomForestClassifier         2  0.973154\n",
       "3   RandomForestClassifier         3  0.963087\n",
       "4   RandomForestClassifier         4  0.963087\n",
       "5            MultinomialNB         0  0.969799\n",
       "6            MultinomialNB         1  0.959732\n",
       "7            MultinomialNB         2  0.983221\n",
       "8            MultinomialNB         3  0.979866\n",
       "9            MultinomialNB         4  0.969799\n",
       "10      LogisticRegression         0  0.973154\n",
       "11      LogisticRegression         1  0.963087\n",
       "12      LogisticRegression         2  0.983221\n",
       "13      LogisticRegression         3  0.979866\n",
       "14      LogisticRegression         4  0.976510"
      ]
     },
     "execution_count": 26,
     "metadata": {},
     "output_type": "execute_result"
    }
   ],
   "source": [
    "cv_df\n"
   ]
  },
  {
   "cell_type": "code",
   "execution_count": 27,
   "metadata": {
    "_uuid": "f8799b54de4d9433d87b42e1a6783695f4b58946",
    "execution": {
     "iopub.execute_input": "2023-07-26T12:28:04.521006Z",
     "iopub.status.busy": "2023-07-26T12:28:04.520457Z",
     "iopub.status.idle": "2023-07-26T12:28:04.757369Z",
     "shell.execute_reply": "2023-07-26T12:28:04.756233Z",
     "shell.execute_reply.started": "2023-07-26T12:28:04.520778Z"
    }
   },
   "outputs": [],
   "source": [
    "from sklearn.model_selection import train_test_split\n",
    "\n",
    "model = LogisticRegression(random_state=0)\n",
    "\n",
    "#Split Data \n",
    "X_train, X_test, y_train, y_test, indices_train, indices_test = train_test_split(features, labels, df.index, test_size=0.33, random_state=42)\n",
    "\n",
    "#Train Algorithm\n",
    "model.fit(X_train, y_train)\n",
    "\n",
    "# Make Predictions\n",
    "y_pred_proba = model.predict_proba(X_test)\n",
    "y_pred = model.predict(X_test)\n"
   ]
  },
  {
   "cell_type": "code",
   "execution_count": 28,
   "metadata": {
    "_uuid": "cb76d122797fd0bfacca877e03ba360d2ed6954b",
    "execution": {
     "iopub.execute_input": "2023-07-26T12:28:04.759192Z",
     "iopub.status.busy": "2023-07-26T12:28:04.758877Z",
     "iopub.status.idle": "2023-07-26T12:28:05.238778Z",
     "shell.execute_reply": "2023-07-26T12:28:05.237704Z",
     "shell.execute_reply.started": "2023-07-26T12:28:04.759137Z"
    }
   },
   "outputs": [
    {
     "data": {
      "text/plain": [
       "Text(0.5, 23.52222222222222, 'Predicted')"
      ]
     },
     "execution_count": 28,
     "metadata": {},
     "output_type": "execute_result"
    },
    {
     "data": {
      "image/png": "[encoded data removed]",
      "text/plain": [
       "<Figure size 640x480 with 2 Axes>"
      ]
     },
     "metadata": {},
     "output_type": "display_data"
    }
   ],
   "source": [
    "from sklearn.metrics import confusion_matrix\n",
    "import seaborn as sns\n",
    "\n",
    "conf_mat = confusion_matrix(y_test, y_pred)\n",
    "sns.heatmap(conf_mat, annot=True, fmt='d',\n",
    "            xticklabels=category_id_df.Category.values, yticklabels=category_id_df.Category.values)\n",
    "plt.ylabel('Actual')\n",
    "plt.xlabel('Predicted')\n"
   ]
  },
  {
   "cell_type": "code",
   "execution_count": 29,
   "metadata": {
    "_uuid": "0eaa9f8563f409e1006b598e957a6d00c24a16bb",
    "execution": {
     "iopub.execute_input": "2023-07-26T12:28:05.240893Z",
     "iopub.status.busy": "2023-07-26T12:28:05.240288Z",
     "iopub.status.idle": "2023-07-26T12:28:05.268839Z",
     "shell.execute_reply": "2023-07-26T12:28:05.268093Z",
     "shell.execute_reply.started": "2023-07-26T12:28:05.240823Z"
    }
   },
   "outputs": [
    {
     "name": "stdout",
     "output_type": "stream",
     "text": [
      "'business' predicted as 'tech' : 2 examples.\n"
     ]
    },
    {
     "data": {
      "text/plain": [
       "1384    brussels raps mobile call charges the european...\n",
       "664     orange colour clash set for court a row over t...\n",
       "Name: Text, dtype: object"
      ]
     },
     "metadata": {},
     "output_type": "display_data"
    },
    {
     "name": "stdout",
     "output_type": "stream",
     "text": [
      "\n",
      "'politics' predicted as 'tech' : 2 examples.\n"
     ]
    },
    {
     "data": {
      "text/plain": [
       "1415    mps issued with blackberry threat mps will be ...\n",
       "643     mps issued with blackberry threat mps will be ...\n",
       "Name: Text, dtype: object"
      ]
     },
     "metadata": {},
     "output_type": "display_data"
    },
    {
     "name": "stdout",
     "output_type": "stream",
     "text": [
      "\n",
      "'business' predicted as 'politics' : 2 examples.\n"
     ]
    },
    {
     "data": {
      "text/plain": [
       "1309    saudi ministry to employ women women will be e...\n",
       "691     salary scandal in cameroon cameroon says wides...\n",
       "Name: Text, dtype: object"
      ]
     },
     "metadata": {},
     "output_type": "display_data"
    },
    {
     "name": "stdout",
     "output_type": "stream",
     "text": [
      "\n"
     ]
    }
   ],
   "source": [
    "from IPython.display import display\n",
    "\n",
    "for predicted in category_id_df.category_id:\n",
    "  for actual in category_id_df.category_id:\n",
    "    if predicted != actual and conf_mat[actual, predicted] >= 2:\n",
    "      print(\"'{}' predicted as '{}' : {} examples.\".format(id_to_category[actual], id_to_category[predicted], conf_mat[actual, predicted]))\n",
    "      display(df.loc[indices_test[(y_test == actual) & (y_pred == predicted)]]['Text'])\n",
    "      print('')\n"
   ]
  },
  {
   "cell_type": "code",
   "execution_count": 31,
   "metadata": {
    "_uuid": "f88de8d1462a134f59d96e30ed05bf02630e1ffb",
    "execution": {
     "iopub.execute_input": "2023-07-26T12:28:05.270754Z",
     "iopub.status.busy": "2023-07-26T12:28:05.270242Z",
     "iopub.status.idle": "2023-07-26T12:28:05.550806Z",
     "shell.execute_reply": "2023-07-26T12:28:05.549802Z",
     "shell.execute_reply.started": "2023-07-26T12:28:05.270701Z"
    }
   },
   "outputs": [
    {
     "name": "stdout",
     "output_type": "stream",
     "text": [
      "# 'business':\n",
      "  . Top unigrams:\n",
      "       . firm\n",
      "       . bank\n",
      "       . shares\n",
      "       . company\n",
      "       . market\n",
      "  . Top bigrams:\n",
      "       . chief executive\n",
      "       . stock market\n",
      "       . economic growth\n",
      "       . analysts said\n",
      "       . stock exchange\n",
      "# 'entertainment':\n",
      "  . Top unigrams:\n",
      "       . film\n",
      "       . band\n",
      "       . music\n",
      "       . singer\n",
      "       . actor\n",
      "  . Top bigrams:\n",
      "       . box office\n",
      "       . los angeles\n",
      "       . big brother\n",
      "       . film maker\n",
      "       . named best\n",
      "# 'politics':\n",
      "  . Top unigrams:\n",
      "       . labour\n",
      "       . election\n",
      "       . government\n",
      "       . mr\n",
      "       . blair\n",
      "  . Top bigrams:\n",
      "       . mr blair\n",
      "       . prime minister\n",
      "       . general election\n",
      "       . tony blair\n",
      "       . mr brown\n",
      "# 'sport':\n",
      "  . Top unigrams:\n",
      "       . win\n",
      "       . match\n",
      "       . game\n",
      "       . coach\n",
      "       . season\n",
      "  . Top bigrams:\n",
      "       . year old\n",
      "       . australian open\n",
      "       . champions league\n",
      "       . grand slam\n",
      "       . world number\n",
      "# 'tech':\n",
      "  . Top unigrams:\n",
      "       . computer\n",
      "       . software\n",
      "       . users\n",
      "       . online\n",
      "       . technology\n",
      "  . Top bigrams:\n",
      "       . mobile phone\n",
      "       . news website\n",
      "       . bbc news\n",
      "       . mobile phones\n",
      "       . said mr\n"
     ]
    }
   ],
   "source": [
    "from sklearn.feature_selection import chi2\n",
    "\n",
    "N = 5\n",
    "for Category, category_id in sorted(category_to_id.items()):\n",
    "  indices = np.argsort(model.coef_[category_id])   # This time using the model co-eficients / weights\n",
    "  feature_names = np.array(tfidf.get_feature_names_out())[indices]\n",
    "  unigrams = [v for v in reversed(feature_names) if len(v.split(' ')) == 1][:N]\n",
    "  bigrams = [v for v in reversed(feature_names) if len(v.split(' ')) == 2][:N]\n",
    "  print(\"# '{}':\".format(Category))\n",
    "  print(\"  . Top unigrams:\\n       . {}\".format('\\n       . '.join(unigrams)))\n",
    "  print(\"  . Top bigrams:\\n       . {}\".format('\\n       . '.join(bigrams)))\n"
   ]
  },
  {
   "cell_type": "code",
   "execution_count": 32,
   "metadata": {
    "_uuid": "bb5cde4560b4c3454b19b5c93a28afb15d2af749",
    "execution": {
     "iopub.execute_input": "2023-07-26T12:28:05.552378Z",
     "iopub.status.busy": "2023-07-26T12:28:05.552092Z",
     "iopub.status.idle": "2023-07-26T12:28:05.562455Z",
     "shell.execute_reply": "2023-07-26T12:28:05.561389Z",
     "shell.execute_reply.started": "2023-07-26T12:28:05.552328Z"
    }
   },
   "outputs": [
    {
     "name": "stdout",
     "output_type": "stream",
     "text": [
      "\"Hooli stock price soared after a dip in PiedPiper revenue growth.\"\n",
      "  - Predicted as: 'business'\n",
      "\n",
      "\"Captain Tsubasa scores a magnificent goal for the Japanese team.\"\n",
      "  - Predicted as: 'sport'\n",
      "\n",
      "\"Merryweather mercenaries are sent on another mission, as government oversight groups call for new sanctions.\"\n",
      "  - Predicted as: 'politics'\n",
      "\n",
      "\"Beyoncé releases a new album, tops the charts in all of south-east Asia!\"\n",
      "  - Predicted as: 'entertainment'\n",
      "\n",
      "\"You won't guess what the latest data in tech analysis is!\"\n",
      "  - Predicted as: 'tech'\n",
      "\n"
     ]
    }
   ],
   "source": [
    "texts = [\"Hooli stock price soared after a dip in PiedPiper revenue growth.\",\n",
    "         \"Captain Tsubasa scores a magnificent goal for the Japanese team.\",\n",
    "         \"Merryweather mercenaries are sent on another mission, as government oversight groups call for new sanctions.\",\n",
    "         \"Beyoncé releases a new album, tops the charts in all of south-east Asia!\",\n",
    "         \"You won't guess what the latest data in tech analysis is!\"]\n",
    "text_features = tfidf.transform(texts)\n",
    "predictions = model.predict(text_features)\n",
    "for text, predicted in zip(texts, predictions):\n",
    "  print('\"{}\"'.format(text))\n",
    "  print(\"  - Predicted as: '{}'\".format(id_to_category[predicted]))\n",
    "  print(\"\")\n"
   ]
  },
  {
   "cell_type": "code",
   "execution_count": null,
   "metadata": {},
   "outputs": [],
   "source": []
  }
 ],
 "metadata": {
  "kernelspec": {
   "display_name": "Python 3 (ipykernel)",
   "language": "python",
   "name": "python3"
  },
  "language_info": {
   "codemirror_mode": {
    "name": "ipython",
    "version": 3
   },
   "file_extension": ".py",
   "mimetype": "text/x-python",
   "name": "python",
   "nbconvert_exporter": "python",
   "pygments_lexer": "ipython3",
   "version": "3.9.13"
  }
 },
 "nbformat": 4,
 "nbformat_minor": 4
}
